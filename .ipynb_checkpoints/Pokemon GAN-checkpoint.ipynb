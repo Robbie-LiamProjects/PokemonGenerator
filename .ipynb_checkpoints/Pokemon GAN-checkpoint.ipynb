{
 "cells": [
  {
   "cell_type": "markdown",
   "metadata": {},
   "source": [
    "# Pokemon Generator\n",
    "## Dataset Creation"
   ]
  },
  {
   "cell_type": "code",
   "execution_count": 1437,
   "metadata": {},
   "outputs": [],
   "source": [
    "from __future__ import print_function, division\n",
    "\n",
    "from keras.layers import Input, Dense, Reshape, Flatten, Dropout\n",
    "from keras.layers import BatchNormalization, Activation, ZeroPadding2D\n",
    "from keras.layers.advanced_activations import LeakyReLU\n",
    "from keras.layers.convolutional import UpSampling2D, Conv2D\n",
    "from keras.models import Sequential, Model\n",
    "from keras.optimizers import Adam\n",
    "from tqdm import tqdm\n",
    "from keras.utils import to_categorical\n",
    "\n",
    "import matplotlib.pyplot as plt\n",
    "import sys\n",
    "import numpy as np"
   ]
  },
  {
   "cell_type": "code",
   "execution_count": null,
   "metadata": {},
   "outputs": [],
   "source": [
    "from PIL import Image\n",
    "import os \n",
    "\n",
    "images = []\n",
    "\n",
    "path = \"Dataset/smol/\"\n",
    "colour = [255,255,255]\n",
    "temp_training_data = []\n",
    "name_label_data = []\n",
    "img_size = 120\n",
    "counter = 0\n",
    "\n",
    "for img in os.listdir(path):\n",
    "    \n",
    "    if(img[-4:].lower() == \".png\" or img[-4:].lower() == \".jpg\"):\n",
    "        image = np.array(Image.open(path + img).convert(\"RGBA\").resize((img_size,img_size)))\n",
    "        r, g, b, a = np.rollaxis(image, axis=-1)\n",
    "        r[a == 0] = colour[0]\n",
    "        g[a == 0] = colour[1]\n",
    "        b[a == 0] = colour[2] \n",
    "        image = np.dstack([r, g, b])\n",
    "        \n",
    "        temp_training_data.append(image)\n",
    "        name_label_data.append(img[:-4])\n",
    "        if(\"-\" in name_label_data[-1]):\n",
    "            counter += 1\n",
    "            #print(name_label_data[-1])\n",
    "            name_label_data[-1] = name_label_data[-1][:name_label_data[-1].find(\"-\")]\n",
    "            #print(name_label_data[-1])\n",
    "        \n",
    "training_data = np.array(temp_training_data).reshape(-1, img_size, img_size, 3)\n",
    "x_train = training_data[:700]\n",
    "x_test = training_data[700:]\n",
    "print(training_data.shape)\n",
    "print(counter)"
   ]
  },
  {
   "cell_type": "code",
   "execution_count": 1439,
   "metadata": {},
   "outputs": [
    {
     "data": {
      "image/png": "[encoded data removed]",
      "text/plain": [
       "<Figure size 1440x360 with 4 Axes>"
      ]
     },
     "metadata": {
      "needs_background": "light"
     },
     "output_type": "display_data"
    }
   ],
   "source": [
    "plt.figure(figsize=(20, 5))\n",
    "plt.subplot(1,4,1)\n",
    "plt.title(name_label_data[-1])\n",
    "plt.imshow(image)\n",
    "\n",
    "\n",
    "plt.subplot(1,4,2)\n",
    "plt.title(name_label_data[-3])\n",
    "plt.imshow(training_data[-3])\n",
    "\n",
    "\n",
    "plt.subplot(1,4,3)\n",
    "plt.title(name_label_data[1])\n",
    "plt.imshow(x_train[1])\n",
    "\n",
    "plt.subplot(1,4,4)\n",
    "plt.title(name_label_data[700])\n",
    "plt.imshow(x_test[0])\n",
    "plt.show()\n"
   ]
  },
  {
   "cell_type": "code",
   "execution_count": 1440,
   "metadata": {},
   "outputs": [
    {
     "name": "stdout",
     "output_type": "stream",
     "text": [
      "(700, 120, 120, 3)\n",
      "(109, 120, 120, 3)\n"
     ]
    }
   ],
   "source": [
    "x_train = x_train.astype('float32') / 255.\n",
    "x_test = x_test.astype('float32') / 255.\n",
    "#x_train = x_train.reshape((len(x_train), np.prod(x_train.shape[1:])))\n",
    "#x_test = x_test.reshape((len(x_test), np.prod(x_test.shape[1:])))\n",
    "print(x_train.shape)\n",
    "print(x_test.shape)"
   ]
  },
  {
   "cell_type": "markdown",
   "metadata": {},
   "source": [
    "## Extracting Stats"
   ]
  },
  {
   "cell_type": "code",
   "execution_count": 1400,
   "metadata": {},
   "outputs": [],
   "source": [
    "poke_id = []\n",
    "name = []\n",
    "type1 = []\n",
    "type2 = []\n",
    "total = []\n",
    "hp = []\n",
    "attack = []\n",
    "defence = []\n",
    "sp_attack = []\n",
    "sp_defence = []\n",
    "speed = []\n",
    "gen = []\n",
    "legendary = []\n",
    "\n",
    "filepath = 'Dataset/pokemon.csv'"
   ]
  },
  {
   "cell_type": "code",
   "execution_count": 1401,
   "metadata": {},
   "outputs": [],
   "source": [
    "import csv\n",
    "last_id = 999\n",
    "\n",
    "with open(filepath) as pokemon_vals:\n",
    "    row_pokemon = csv.DictReader(pokemon_vals)\n",
    "    for idx, row in enumerate(row_pokemon):\n",
    "        if(row['#'] != last_id):\n",
    "            last_id = row['#']\n",
    "            poke_id.append(row['#'])\n",
    "            name.append(row['Name'])\n",
    "            type1.append(row['Type 1'])\n",
    "\n",
    "            if(row['Type 2'] != \"\"):\n",
    "                type2.append(row['Type 2'])\n",
    "            else:\n",
    "                type2.append(row['Type 1'])\n",
    "\n",
    "            if(row['Total'] != \"\"):\n",
    "                total.append(row['Total'])\n",
    "            else:\n",
    "                total.append(-1)\n",
    "\n",
    "            if(row['HP'] != \"\"):\n",
    "                hp.append(row['HP'])\n",
    "            else:\n",
    "                hp.append(-1)\n",
    "\n",
    "            if(row['Attack'] != \"\"):\n",
    "                attack.append(row['Attack'])\n",
    "            else:\n",
    "                attack.append(-1)\n",
    "\n",
    "            if(row['Defense'] != \"\"):\n",
    "                defence.append(row['Defense'])\n",
    "            else:\n",
    "                defence.append(-1)   \n",
    "\n",
    "            if(row['Sp. Atk'] != \"\"):\n",
    "                sp_attack.append(row['Sp. Atk'])\n",
    "            else:\n",
    "                sp_attack.append(-1)\n",
    "\n",
    "            if(row['Sp. Def'] != \"\"):\n",
    "                sp_defence.append(row['Sp. Def'])\n",
    "            else:\n",
    "                sp_defence.append(-1)\n",
    "\n",
    "            if(row['Speed'] != \"\"):\n",
    "                speed.append(row['Speed'])\n",
    "            else:\n",
    "                speed.append(-1)\n",
    "\n",
    "            if(row['Generation'] != \"\"):\n",
    "                gen.append(row['Generation'])\n",
    "            else:\n",
    "                gen.append(-1)\n",
    "\n",
    "            if(row['Legendary'] != \"\"):\n",
    "                legendary.append(row['Legendary'])\n",
    "            else:\n",
    "                legendary.append(-1)\n",
    "            \n",
    "        \n"
   ]
  },
  {
   "cell_type": "code",
   "execution_count": 1402,
   "metadata": {},
   "outputs": [
    {
     "name": "stdout",
     "output_type": "stream",
     "text": [
      "1\n",
      "Bulbasaur\n",
      "Grass\n",
      "Poison\n",
      "318\n",
      "45\n",
      "49\n",
      "49\n",
      "65\n",
      "65\n",
      "45\n",
      "1\n",
      "False\n",
      "\n"
     ]
    }
   ],
   "source": [
    "for x in range(1):\n",
    "    print(poke_id[x])\n",
    "    print(name[x])\n",
    "    print(type1[x])\n",
    "    print(type2[x])\n",
    "    print(total[x])\n",
    "    print(hp[x])\n",
    "    print(attack[x])\n",
    "    print(defence[x])\n",
    "    print(sp_attack[x])\n",
    "    print(sp_defence[x])\n",
    "    print(speed[x])\n",
    "    print(gen[x])\n",
    "    print(legendary[x])\n",
    "    print()"
   ]
  },
  {
   "cell_type": "code",
   "execution_count": 1403,
   "metadata": {},
   "outputs": [
    {
     "name": "stdout",
     "output_type": "stream",
     "text": [
      "True\n"
     ]
    }
   ],
   "source": [
    "if(len(name) == len(name_label_data)):\n",
    "    print(\"True\")\n"
   ]
  },
  {
   "cell_type": "code",
   "execution_count": 1702,
   "metadata": {},
   "outputs": [],
   "source": [
    "id_label_data = []\n",
    "\n",
    "# loop through name labels \n",
    "# compare name in csv to name label - loop through all names in csv\n",
    "# if match append poke_id to id_label_data\n",
    "found = 0\n",
    "for x in range(len(name_label_data)):\n",
    "    found = 0\n",
    "    #print(name_label_data[x])\n",
    "    for y in range(len(name)):\n",
    "        if(name_label_data[x] in name[y].lower()):\n",
    "            found = 1\n",
    "            id_label_data.append(y+1)\n",
    "            break\n",
    "            \n",
    "    if(found == 0):\n",
    "        print(name_label_data[x])\n",
    "    \n",
    "counter = 0"
   ]
  },
  {
   "cell_type": "code",
   "execution_count": 1714,
   "metadata": {},
   "outputs": [
    {
     "name": "stdout",
     "output_type": "stream",
     "text": [
      "\n"
     ]
    },
    {
     "data": {
      "image/png": "[encoded data removed]",
      "text/plain": [
       "<Figure size 1440x360 with 4 Axes>"
      ]
     },
     "metadata": {
      "needs_background": "light"
     },
     "output_type": "display_data"
    }
   ],
   "source": [
    "from scipy import ndimage\n",
    "def rgb2gray(rgb):\n",
    "    return np.dot(rgb[...,:3], [0.2989, 0.5870, 0.1140])\n",
    "\n",
    "k1 = np.array([[-1,0,1],\n",
    "               [-2,0,2],\n",
    "               [-1,0,1]])\n",
    "\n",
    "k2 = np.array([[-1,-2,-1],\n",
    "               [0,0,0],\n",
    "               [1,2,1]])\n",
    "\n",
    "k3 = np.array([[3,0,-3],\n",
    "               [10,0,-10],\n",
    "               [3,0,-3]])\n",
    "\n",
    "k4 = np.array([[3,10,3],\n",
    "               [0,0,0],\n",
    "               [-3,-10,-3]])\n",
    "\n",
    "k5 = np.array([[47,0,-47],\n",
    "               [162,0,-162],\n",
    "               [47,0,-47]])\n",
    "\n",
    "k6 = np.array([[47,162,47],\n",
    "               [0,0,0],\n",
    "               [-47,-162,-47]])\n",
    "\n",
    "k7 = np.array([[-1,0,0,0,1],\n",
    "               [-2,-0,0,0,2],\n",
    "               [-3,-0,0,0,3],\n",
    "               [-2,-0,0,0,2],\n",
    "               [-1,0,0,0,1]])\n",
    "\n",
    "k8 = np.array([[-1,-2,-3,-2,-1],\n",
    "               [0,-0,-0,-0,0],\n",
    "               [0,0,0,0,0],\n",
    "               [0,0,0,0,0],\n",
    "               [1,2,3,2,1]])\n",
    "\n",
    "k9 = np.array([[1,2,1],\n",
    "               [2,4,2],\n",
    "               [1,2,1]])\n",
    "\n",
    "k10 = np.array([[1,2,1],\n",
    "               [5,4,2],\n",
    "               [1,2,1]])\n",
    "\n",
    "k11 = np.array([[1,2,4,2,1],\n",
    "                [2,4,8,4,2],\n",
    "                [4,8,16,8,4],\n",
    "                [2,4,8,4,2],\n",
    "                [1,2,4,2,1]])\n",
    "\n",
    "k12 = np.array([[1,2,4,2,1],\n",
    "                [2,4,8,4,2],\n",
    "                [4,8,16,8,4],\n",
    "                [2,4,8,4,2],\n",
    "                [1,2,4,2,1]])\n",
    "\n",
    "k11 = np.array([[1,2,4,8,4,2,1],\n",
    "                [2,4,8,16,8,4,2],\n",
    "                [4,8,16,32,16,8,4],\n",
    "                [8,16,32,64,32,16,8],\n",
    "                [4,8,16,32,16,8,4],\n",
    "                [2,4,8,16,8,4,2],\n",
    "                [1,2,4,8,4,2,1]])\n",
    "\n",
    "k12 = np.array([[1,2,3,2,1],\n",
    "                [2,4,6,4,2],\n",
    "                [4,8,12,8,4],\n",
    "                [2,4,6,4,2],\n",
    "                [1,2,3,2,1]])\n",
    "\n",
    "k13 = np.array([[20,20,20],\n",
    "               [20,20,20],\n",
    "               [20,20,20]])\n",
    "\n",
    "\n",
    "k14 = np.array([[0,-1,0],\n",
    "               [-1,5,-1],\n",
    "               [0,-1,0]])\n",
    "\n",
    "\n",
    "\n",
    "\n",
    "grey = rgb2gray(training_data[counter])\n",
    "counter += 1\n",
    "\n",
    "contrast = ndimage.convolve(grey, k13, mode='constant', cval=0.0)\n",
    "\n",
    "sharpen = ndimage.convolve(grey, k14, mode='constant', cval=0.0)\n",
    "\n",
    "for x in range(grey.shape[0]):\n",
    "    for y in range(grey.shape[1]):\n",
    "        if(grey[x][y] >= 160):\n",
    "            contrast[x][y] = grey[x][y]*3\n",
    "        else:\n",
    "            contrast[x][y] = grey[x][y]*-3\n",
    "\n",
    "\n",
    "for x in range(grey.shape[0]):\n",
    "    for y in range(grey.shape[1]):\n",
    "        if(grey[x][y] >= 160):\n",
    "            thresholded[x][y] = 0\n",
    "        else:\n",
    "            thresholded[x][y] = 255\n",
    "            \n",
    "blur1 = ndimage.convolve(contrast, k1, mode='constant', cval=0.0)\n",
    "blur2 = ndimage.convolve(blur1, k12, mode='constant', cval=0.0)\n",
    "blur = (np.sqrt(blur1**2 + blur2**2)) \n",
    "\n",
    "edges1 = ndimage.convolve(contrast, k3, mode='constant', cval=0.0)\n",
    "edges2 = ndimage.convolve(edges1, k4, mode='constant', cval=0.0)\n",
    "edges = (np.sqrt(edges1**2 + edges2**2))\n",
    "\n",
    "plt.figure(figsize=(20, 5))\n",
    "plt.subplot(1,4,1)\n",
    "plt.title(str(type1[id_label_data[-1]]) + \" - \" + str(type2[id_label_data[-1]]))\n",
    "plt.imshow(image)\n",
    "\n",
    "\n",
    "plt.subplot(1,4,2)\n",
    "plt.title(str(type1[id_label_data[62]-1]) + \" - \" + str(type2[id_label_data[62]-1]))\n",
    "plt.imshow(training_data[62])\n",
    "\n",
    "plt.subplot(1,4,3)\n",
    "plt.title(\"Grey\")\n",
    "plt.imshow(grey, cmap=plt.get_cmap('gray'))\n",
    "\n",
    "plt.subplot(1,4,4)\n",
    "plt.title(\"Sharpen\")\n",
    "plt.imshow(contrast, cmap=plt.get_cmap('gray'))\n",
    "\n",
    "print()"
   ]
  },
  {
   "cell_type": "code",
   "execution_count": 1615,
   "metadata": {},
   "outputs": [],
   "source": [
    "from sklearn.preprocessing import OneHotEncoder\n",
    "from sklearn.preprocessing import LabelEncoder\n",
    "from keras.utils import to_categorical\n",
    "\n",
    "\n",
    "label_data = []\n",
    "one_hot_labels = []\n",
    "\n",
    "\n",
    "\n",
    "\n",
    "types = [\"Bug\",\"Dark\",\"Dragon\",\"Electric\",\"Fairy\",\"Fighting\",\n",
    "        \"Fire\",\"Flying\",\"Ghost\",\"Grass\",\"Ground\",\"Ice\",\n",
    "        \"Normal\",\"Poison\",\"Psychic\",\"Rock\",\"Steel\",\"Water\"]\n",
    "\n",
    "\n",
    "\n",
    "\n",
    "\n",
    "for x in range(len(training_data)):\n",
    "    for y in range(len(types)):\n",
    "        #label_data.append(type1[id_label_data[x]-1])\n",
    "        if(type1[id_label_data[x]-1] == types[y]):\n",
    "            label_data.append(y)\n",
    "\n",
    "counter = 0\n",
    "for x in range(len(id_label_data)):\n",
    "    found = 0\n",
    "    #print(\"ID: \" + str(id_label_data[x]))\n",
    "    #print(\"Name: \" + str(name_label_data[x]))\n",
    "    #print(\"Type 1: \" + str(type1[id_label_data[x]-1]))\n",
    "    #print(\"Type 2: \" + str(type2[id_label_data[x]-1]))\n",
    "    \n",
    "    for y in range(len(types)):\n",
    "        if(type1[id_label_data[x]-1] == types[y]):\n",
    "            temp = to_categorical(y, 18)\n",
    "            if(type1[id_label_data[x]-1] != type2[id_label_data[x]-1]):\n",
    "                for z in range(len(types)):\n",
    "                    if(type2[id_label_data[z]-1] == types[z]):\n",
    "                        temp2 = to_categorical(z, 18)\n",
    "                        temp = temp + temp2\n",
    "            \n",
    "            one_hot_labels.append(temp)\n",
    "            found = 1\n",
    "    #print(temp)\n",
    "    #print()\n",
    "    if(found==0):\n",
    "        print(\"error\")\n",
    "    counter += 1\n",
    "    \n",
    "    \n",
    "\n",
    "    \n",
    "    \n",
    "y_train = np.zeros((x_train.shape[0], 18))\n",
    "y_test = np.zeros((len(type1)-700, 18))\n",
    "for x in range(y_train.shape[0]):\n",
    "    for y in range(y_train.shape[1]):\n",
    "        y_train[x][y] = one_hot_labels[x][y]\n",
    "    \n",
    "for x in range(y_test.shape[0]):\n",
    "    for y in range(y_test.shape[1]):\n",
    "        y_test[x][y] = one_hot_labels[700+x][y]\n",
    "        \n",
    "#y_train = one_hot_labels[:700]\n",
    "#y_test = one_hot_labels[700:]\n",
    "\n",
    "\n",
    "#both types in the one hot encoding\n",
    "#get type 1 and type 2\n",
    "#check position in one hot encoder\n",
    "# add one in that position\n",
    "# append type one hot to new list\n",
    "\n",
    "\n",
    "\n"
   ]
  },
  {
   "cell_type": "code",
   "execution_count": null,
   "metadata": {},
   "outputs": [],
   "source": [
    "r_labels = []\n",
    "g_labels = []\n",
    "b_labels = []\n",
    "\n",
    "for x in range(len(traingin_data)):\n",
    "    r_labels.append(training_data[x][0]/255)\n",
    "    g_labels.append(training_data[x][1]/255)\n",
    "    b_labels.append(traingin_data[x][2]/255)\n",
    "    \n",
    "    to_categorical(, 3)"
   ]
  },
  {
   "cell_type": "code",
   "execution_count": null,
   "metadata": {},
   "outputs": [],
   "source": [
    "def create_colour_cnn_model():\n",
    "    model = Sequential()\n",
    "    model.add(Conv2D(64, kernel_size=3, activation=\"relu\", input_shape=(img_size,img_size,3)))\n",
    "    model.add(Conv2D(32, kernel_size=3, activation=\"relu\"))\n",
    "    model.add(Flatten())\n",
    "    model.add(Dense(3, activation=\"sigmoid\"))\n",
    "    \n",
    "    return model"
   ]
  },
  {
   "cell_type": "code",
   "execution_count": null,
   "metadata": {},
   "outputs": [],
   "source": []
  },
  {
   "cell_type": "markdown",
   "metadata": {},
   "source": [
    "## Building the CNN"
   ]
  },
  {
   "cell_type": "code",
   "execution_count": null,
   "metadata": {},
   "outputs": [],
   "source": []
  },
  {
   "cell_type": "code",
   "execution_count": null,
   "metadata": {},
   "outputs": [],
   "source": []
  },
  {
   "cell_type": "code",
   "execution_count": 1434,
   "metadata": {},
   "outputs": [
    {
     "data": {
      "text/plain": [
       "(700, 18)"
      ]
     },
     "execution_count": 1434,
     "metadata": {},
     "output_type": "execute_result"
    }
   ],
   "source": [
    "y_train.shape"
   ]
  },
  {
   "cell_type": "code",
   "execution_count": 1435,
   "metadata": {},
   "outputs": [
    {
     "data": {
      "text/plain": [
       "(700, 120, 120, 3)"
      ]
     },
     "execution_count": 1435,
     "metadata": {},
     "output_type": "execute_result"
    }
   ],
   "source": [
    "x_train.shape"
   ]
  },
  {
   "cell_type": "code",
   "execution_count": 1436,
   "metadata": {},
   "outputs": [],
   "source": [
    "def create_cnn_model():\n",
    "    model = Sequential()\n",
    "    model.add(Conv2D(64, kernel_size=3, activation=\"relu\", input_shape=(img_size,img_size,3)))\n",
    "    model.add(Conv2D(32, kernel_size=3, activation=\"relu\"))\n",
    "    model.add(Flatten())\n",
    "    model.add(Dense(18, activation=\"sigmoid\"))\n",
    "    \n",
    "    return model"
   ]
  },
  {
   "cell_type": "code",
   "execution_count": 1432,
   "metadata": {},
   "outputs": [
    {
     "name": "stdout",
     "output_type": "stream",
     "text": [
      "(60000, 28, 28, 1)\n",
      "Train on 700 samples, validate on 109 samples\n",
      "Epoch 1/3\n",
      "700/700 [==============================] - 39s 56ms/step - loss: 10.6702 - acc: 0.1729 - val_loss: 11.6309 - val_acc: 0.2385\n",
      "Epoch 2/3\n",
      "700/700 [==============================] - 27s 38ms/step - loss: 10.4646 - acc: 0.3171 - val_loss: 3.9440 - val_acc: 0.3303\n",
      "Epoch 3/3\n",
      "700/700 [==============================] - 26s 38ms/step - loss: 4.3097 - acc: 0.3657 - val_loss: 4.1952 - val_acc: 0.3945\n"
     ]
    },
    {
     "data": {
      "text/plain": [
       "<keras.callbacks.History at 0x3a2f13828>"
      ]
     },
     "execution_count": 1432,
     "metadata": {},
     "output_type": "execute_result"
    }
   ],
   "source": [
    "model = create_cnn_model()\n",
    "model.compile(optimizer='adam', loss='categorical_crossentropy', metrics=['accuracy'])\n",
    "model.fit(x_train, y_train, validation_data=(x_test, y_test), epochs=3, batch_size=64)"
   ]
  },
  {
   "cell_type": "code",
   "execution_count": null,
   "metadata": {},
   "outputs": [],
   "source": [
    "\n",
    "def create_colour_cnn_model():\n",
    "    model = Sequential()\n",
    "    model.add(Conv2D(64, kernel_size=3, activation=\"relu\", input_shape=(img_size,img_size,3)))\n",
    "    model.add(Conv2D(32, kernel_size=3, activation=\"relu\"))\n",
    "    model.add(Flatten())\n",
    "    model.add(Dense(3, activation=\"sigmoid\"))\n",
    "    \n",
    "    return model\n"
   ]
  },
  {
   "cell_type": "code",
   "execution_count": null,
   "metadata": {},
   "outputs": [],
   "source": [
    "model = create_cnn_model()\n",
    "model.compile(optimizer='adam', loss='categorical_crossentropy', metrics=['accuracy'])\n",
    "model.fit(x_train, y_train, validation_data=(x_test, y_test), epochs=3, batch_size=64)"
   ]
  },
  {
   "cell_type": "markdown",
   "metadata": {},
   "source": [
    "## Building the GAN"
   ]
  },
  {
   "cell_type": "code",
   "execution_count": 1138,
   "metadata": {},
   "outputs": [],
   "source": [
    "#Specify parameters of the training dataset\n",
    "img_size = 60\n",
    "channels = 3\n",
    "img_shape = (img_size, img_size, channels)\n",
    "latent_dim = 100"
   ]
  },
  {
   "cell_type": "code",
   "execution_count": 1139,
   "metadata": {},
   "outputs": [],
   "source": [
    "def adam_optimizer():\n",
    "    return Adam(lr=0.0002, beta_1=0.5)"
   ]
  },
  {
   "cell_type": "code",
   "execution_count": 1140,
   "metadata": {},
   "outputs": [
    {
     "name": "stdout",
     "output_type": "stream",
     "text": [
      "_________________________________________________________________\n",
      "Layer (type)                 Output Shape              Param #   \n",
      "=================================================================\n",
      "dense_415 (Dense)            (None, 256)               25856     \n",
      "_________________________________________________________________\n",
      "leaky_re_lu_253 (LeakyReLU)  (None, 256)               0         \n",
      "_________________________________________________________________\n",
      "dense_416 (Dense)            (None, 512)               131584    \n",
      "_________________________________________________________________\n",
      "leaky_re_lu_254 (LeakyReLU)  (None, 512)               0         \n",
      "_________________________________________________________________\n",
      "dense_417 (Dense)            (None, 1024)              525312    \n",
      "_________________________________________________________________\n",
      "leaky_re_lu_255 (LeakyReLU)  (None, 1024)              0         \n",
      "_________________________________________________________________\n",
      "dense_418 (Dense)            (None, 43200)             44280000  \n",
      "=================================================================\n",
      "Total params: 44,962,752\n",
      "Trainable params: 44,962,752\n",
      "Non-trainable params: 0\n",
      "_________________________________________________________________\n"
     ]
    }
   ],
   "source": [
    "def create_generator():\n",
    "    generator=Sequential()\n",
    "    generator.add(Dense(units=256,input_dim=100))\n",
    "    generator.add(LeakyReLU(0.2))\n",
    "    \n",
    "    generator.add(Dense(units=512))\n",
    "    generator.add(LeakyReLU(0.2))\n",
    "    \n",
    "    generator.add(Dense(units=1024))\n",
    "    generator.add(LeakyReLU(0.2))\n",
    "    \n",
    "    \n",
    "    generator.add(Dense(units=43200, activation='tanh'))\n",
    "    \n",
    "    generator.compile(loss='binary_crossentropy', optimizer=adam_optimizer())\n",
    "    return generator\n",
    "\n",
    "\n",
    "g = create_generator()\n",
    "g.summary()"
   ]
  },
  {
   "cell_type": "code",
   "execution_count": 1141,
   "metadata": {},
   "outputs": [
    {
     "name": "stdout",
     "output_type": "stream",
     "text": [
      "_________________________________________________________________\n",
      "Layer (type)                 Output Shape              Param #   \n",
      "=================================================================\n",
      "dense_419 (Dense)            (None, 1024)              44237824  \n",
      "_________________________________________________________________\n",
      "leaky_re_lu_256 (LeakyReLU)  (None, 1024)              0         \n",
      "_________________________________________________________________\n",
      "dropout_51 (Dropout)         (None, 1024)              0         \n",
      "_________________________________________________________________\n",
      "dense_420 (Dense)            (None, 512)               524800    \n",
      "_________________________________________________________________\n",
      "leaky_re_lu_257 (LeakyReLU)  (None, 512)               0         \n",
      "_________________________________________________________________\n",
      "dropout_52 (Dropout)         (None, 512)               0         \n",
      "_________________________________________________________________\n",
      "dense_421 (Dense)            (None, 256)               131328    \n",
      "_________________________________________________________________\n",
      "leaky_re_lu_258 (LeakyReLU)  (None, 256)               0         \n",
      "_________________________________________________________________\n",
      "dense_422 (Dense)            (None, 1)                 257       \n",
      "=================================================================\n",
      "Total params: 44,894,209\n",
      "Trainable params: 44,894,209\n",
      "Non-trainable params: 0\n",
      "_________________________________________________________________\n"
     ]
    }
   ],
   "source": [
    "def create_discriminator():\n",
    "    discriminator=Sequential()\n",
    "    discriminator.add(Dense(units=1024,input_dim=43200))\n",
    "    discriminator.add(LeakyReLU(0.2))\n",
    "    discriminator.add(Dropout(0.3))\n",
    "       \n",
    "    \n",
    "    discriminator.add(Dense(units=512))\n",
    "    discriminator.add(LeakyReLU(0.2))\n",
    "    discriminator.add(Dropout(0.3))\n",
    "       \n",
    "    discriminator.add(Dense(units=256))\n",
    "    discriminator.add(LeakyReLU(0.2))\n",
    "    \n",
    "    discriminator.add(Dense(units=1, activation='sigmoid'))\n",
    "    \n",
    "    discriminator.compile(loss='binary_crossentropy', optimizer=adam_optimizer())\n",
    "    return discriminator\n",
    "d = create_discriminator()\n",
    "d.summary()"
   ]
  },
  {
   "cell_type": "code",
   "execution_count": 1142,
   "metadata": {},
   "outputs": [
    {
     "name": "stdout",
     "output_type": "stream",
     "text": [
      "_________________________________________________________________\n",
      "Layer (type)                 Output Shape              Param #   \n",
      "=================================================================\n",
      "input_99 (InputLayer)        (None, 100)               0         \n",
      "_________________________________________________________________\n",
      "sequential_114 (Sequential)  (None, 43200)             44962752  \n",
      "_________________________________________________________________\n",
      "sequential_115 (Sequential)  (None, 1)                 44894209  \n",
      "=================================================================\n",
      "Total params: 89,856,961\n",
      "Trainable params: 44,962,752\n",
      "Non-trainable params: 44,894,209\n",
      "_________________________________________________________________\n"
     ]
    }
   ],
   "source": [
    "def create_gan(discriminator, generator):\n",
    "    discriminator.trainable=False\n",
    "    gan_input = Input(shape=(100,))\n",
    "    x = generator(gan_input)\n",
    "    gan_output= discriminator(x)\n",
    "    gan= Model(inputs=gan_input, outputs=gan_output)\n",
    "    gan.compile(loss='binary_crossentropy', optimizer='adam')\n",
    "    return gan\n",
    "gan = create_gan(d,g)\n",
    "gan.summary()"
   ]
  },
  {
   "cell_type": "code",
   "execution_count": 1143,
   "metadata": {},
   "outputs": [],
   "source": [
    "def plot_generated_images(epoch, generator, examples=100, dim=(10,10), figsize=(10,10)):\n",
    "    noise= np.random.normal(loc=0, scale=1, size=[examples, 100])\n",
    "    generated_images = generator.predict(noise)\n",
    "    generated_images = generated_images.reshape(100,60,60,3)\n",
    "    plt.figure(figsize=figsize)\n",
    "    for i in range(generated_images.shape[0]):\n",
    "        plt.subplot(dim[0], dim[1], i+1)\n",
    "        plt.imshow(generated_images[i], interpolation='nearest')\n",
    "        plt.axis('off')\n",
    "    plt.tight_layout()\n",
    "    plt.savefig('gan_generated_image %d.png' %epoch)"
   ]
  },
  {
   "cell_type": "code",
   "execution_count": 1144,
   "metadata": {},
   "outputs": [
    {
     "name": "stderr",
     "output_type": "stream",
     "text": [
      "\n",
      "\n",
      "\n",
      "\n",
      "  0%|          | 0/128 [00:00<?, ?it/s]\u001b[A\u001b[A\u001b[A\u001b[A"
     ]
    },
    {
     "name": "stdout",
     "output_type": "stream",
     "text": [
      "Epoch 1\n"
     ]
    },
    {
     "name": "stderr",
     "output_type": "stream",
     "text": [
      "\n",
      "\n",
      "\n",
      "\n",
      "  1%|          | 1/128 [00:27<59:07, 27.93s/it]\u001b[A\u001b[A\u001b[A\u001b[A\n",
      "\n",
      "\n",
      "\n",
      "  2%|▏         | 2/128 [00:30<42:46, 20.37s/it]\u001b[A\u001b[A\u001b[A\u001b[A\n",
      "\n",
      "\n",
      "\n",
      "  2%|▏         | 3/128 [00:33<31:13, 14.99s/it]\u001b[A\u001b[A\u001b[A\u001b[A\n",
      "\n",
      "\n",
      "\n",
      "  3%|▎         | 4/128 [00:35<23:10, 11.22s/it]\u001b[A\u001b[A\u001b[A\u001b[A\n",
      "\n",
      "\n",
      "\n",
      "  4%|▍         | 5/128 [00:37<17:33,  8.57s/it]\u001b[A\u001b[A\u001b[A\u001b[A\n",
      "\n",
      "\n",
      "\n",
      "  5%|▍         | 6/128 [00:40<13:36,  6.69s/it]\u001b[A\u001b[A\u001b[A\u001b[A\n",
      "\n",
      "\n",
      "\n",
      "  5%|▌         | 7/128 [00:42<10:49,  5.37s/it]\u001b[A\u001b[A\u001b[A\u001b[A\n",
      "\n",
      "\n",
      "\n",
      "  6%|▋         | 8/128 [00:44<08:53,  4.44s/it]\u001b[A\u001b[A\u001b[A\u001b[A\n",
      "\n",
      "\n",
      "\n",
      "  7%|▋         | 9/128 [00:47<07:32,  3.80s/it]\u001b[A\u001b[A\u001b[A\u001b[A\n",
      "\n",
      "\n",
      "\n",
      "  8%|▊         | 10/128 [00:49<06:34,  3.35s/it]\u001b[A\u001b[A\u001b[A\u001b[A\n",
      "\n",
      "\n",
      "\n",
      "  9%|▊         | 11/128 [00:51<05:55,  3.04s/it]\u001b[A\u001b[A\u001b[A\u001b[A\n",
      "\n",
      "\n",
      "\n",
      "  9%|▉         | 12/128 [00:54<05:27,  2.83s/it]\u001b[A\u001b[A\u001b[A\u001b[A\n",
      "\n",
      "\n",
      "\n",
      " 10%|█         | 13/128 [00:56<05:09,  2.69s/it]\u001b[A\u001b[A\u001b[A\u001b[A\n",
      "\n",
      "\n",
      "\n",
      " 11%|█         | 14/128 [00:58<04:53,  2.58s/it]\u001b[A\u001b[A\u001b[A\u001b[A\n",
      "\n",
      "\n",
      "\n",
      " 12%|█▏        | 15/128 [01:01<04:42,  2.50s/it]\u001b[A\u001b[A\u001b[A\u001b[A\n",
      "\n",
      "\n",
      "\n",
      " 12%|█▎        | 16/128 [01:03<04:34,  2.45s/it]\u001b[A\u001b[A\u001b[A\u001b[A\n",
      "\n",
      "\n",
      "\n",
      " 13%|█▎        | 17/128 [01:05<04:27,  2.41s/it]\u001b[A\u001b[A\u001b[A\u001b[A\n",
      "\n",
      "\n",
      "\n",
      " 14%|█▍        | 18/128 [01:08<04:23,  2.39s/it]\u001b[A\u001b[A\u001b[A\u001b[A\n",
      "\n",
      "\n",
      "\n",
      " 15%|█▍        | 19/128 [01:10<04:19,  2.38s/it]\u001b[A\u001b[A\u001b[A\u001b[A\n",
      "\n",
      "\n",
      "\n",
      " 16%|█▌        | 20/128 [01:12<04:16,  2.37s/it]\u001b[A\u001b[A\u001b[A\u001b[A\n",
      "\n",
      "\n",
      "\n",
      " 16%|█▋        | 21/128 [01:15<04:13,  2.37s/it]\u001b[A\u001b[A\u001b[A\u001b[A\n",
      "\n",
      "\n",
      "\n",
      " 17%|█▋        | 22/128 [01:17<04:09,  2.35s/it]\u001b[A\u001b[A\u001b[A\u001b[A\n",
      "\n",
      "\n",
      "\n",
      " 18%|█▊        | 23/128 [01:19<04:05,  2.34s/it]\u001b[A\u001b[A\u001b[A\u001b[A\n",
      "\n",
      "\n",
      "\n",
      " 19%|█▉        | 24/128 [01:22<04:04,  2.35s/it]\u001b[A\u001b[A\u001b[A\u001b[A\n",
      "\n",
      "\n",
      "\n",
      " 20%|█▉        | 25/128 [01:24<04:01,  2.34s/it]\u001b[A\u001b[A\u001b[A\u001b[A\n",
      "\n",
      "\n",
      "\n",
      " 20%|██        | 26/128 [01:26<03:59,  2.35s/it]\u001b[A\u001b[A\u001b[A\u001b[A\n",
      "\n",
      "\n",
      "\n",
      " 21%|██        | 27/128 [01:29<03:57,  2.35s/it]\u001b[A\u001b[A\u001b[A\u001b[A\n",
      "\n",
      "\n",
      "\n",
      " 22%|██▏       | 28/128 [01:31<03:55,  2.36s/it]\u001b[A\u001b[A\u001b[A\u001b[A\n",
      "\n",
      "\n",
      "\n",
      " 23%|██▎       | 29/128 [01:33<03:56,  2.39s/it]\u001b[A\u001b[A\u001b[A\u001b[A"
     ]
    },
    {
     "ename": "KeyboardInterrupt",
     "evalue": "",
     "output_type": "error",
     "traceback": [
      "\u001b[0;31m---------------------------------------------------------------------------\u001b[0m",
      "\u001b[0;31mKeyboardInterrupt\u001b[0m                         Traceback (most recent call last)",
      "\u001b[0;32m<ipython-input-1144-151fb0ba4523>\u001b[0m in \u001b[0;36m<module>\u001b[0;34m\u001b[0m\n\u001b[1;32m     49\u001b[0m             \u001b[0mplot_generated_images\u001b[0m\u001b[0;34m(\u001b[0m\u001b[0me\u001b[0m\u001b[0;34m,\u001b[0m \u001b[0mgenerator\u001b[0m\u001b[0;34m)\u001b[0m\u001b[0;34m\u001b[0m\u001b[0;34m\u001b[0m\u001b[0m\n\u001b[1;32m     50\u001b[0m \u001b[0;34m\u001b[0m\u001b[0m\n\u001b[0;32m---> 51\u001b[0;31m \u001b[0mtraining\u001b[0m\u001b[0;34m(\u001b[0m\u001b[0;36m5\u001b[0m\u001b[0;34m,\u001b[0m\u001b[0;36m128\u001b[0m\u001b[0;34m)\u001b[0m\u001b[0;34m\u001b[0m\u001b[0;34m\u001b[0m\u001b[0m\n\u001b[0m",
      "\u001b[0;32m<ipython-input-1144-151fb0ba4523>\u001b[0m in \u001b[0;36mtraining\u001b[0;34m(epochs, batch_size)\u001b[0m\n\u001b[1;32m     11\u001b[0m     \u001b[0;32mfor\u001b[0m \u001b[0me\u001b[0m \u001b[0;32min\u001b[0m \u001b[0mrange\u001b[0m\u001b[0;34m(\u001b[0m\u001b[0;36m1\u001b[0m\u001b[0;34m,\u001b[0m\u001b[0mepochs\u001b[0m\u001b[0;34m+\u001b[0m\u001b[0;36m1\u001b[0m \u001b[0;34m)\u001b[0m\u001b[0;34m:\u001b[0m\u001b[0;34m\u001b[0m\u001b[0;34m\u001b[0m\u001b[0m\n\u001b[1;32m     12\u001b[0m         \u001b[0mprint\u001b[0m\u001b[0;34m(\u001b[0m\u001b[0;34m\"Epoch %d\"\u001b[0m \u001b[0;34m%\u001b[0m\u001b[0me\u001b[0m\u001b[0;34m)\u001b[0m\u001b[0;34m\u001b[0m\u001b[0;34m\u001b[0m\u001b[0m\n\u001b[0;32m---> 13\u001b[0;31m         \u001b[0;32mfor\u001b[0m \u001b[0m_\u001b[0m \u001b[0;32min\u001b[0m \u001b[0mtqdm\u001b[0m\u001b[0;34m(\u001b[0m\u001b[0mrange\u001b[0m\u001b[0;34m(\u001b[0m\u001b[0mbatch_size\u001b[0m\u001b[0;34m)\u001b[0m\u001b[0;34m)\u001b[0m\u001b[0;34m:\u001b[0m\u001b[0;34m\u001b[0m\u001b[0;34m\u001b[0m\u001b[0m\n\u001b[0m\u001b[1;32m     14\u001b[0m         \u001b[0;31m#generate  random noise as an input  to  initialize the  generator\u001b[0m\u001b[0;34m\u001b[0m\u001b[0;34m\u001b[0m\u001b[0;34m\u001b[0m\u001b[0m\n\u001b[1;32m     15\u001b[0m             \u001b[0mnoise\u001b[0m\u001b[0;34m=\u001b[0m \u001b[0mnp\u001b[0m\u001b[0;34m.\u001b[0m\u001b[0mrandom\u001b[0m\u001b[0;34m.\u001b[0m\u001b[0mnormal\u001b[0m\u001b[0;34m(\u001b[0m\u001b[0;36m0\u001b[0m\u001b[0;34m,\u001b[0m\u001b[0;36m1\u001b[0m\u001b[0;34m,\u001b[0m \u001b[0;34m[\u001b[0m\u001b[0mbatch_size\u001b[0m\u001b[0;34m,\u001b[0m \u001b[0;36m100\u001b[0m\u001b[0;34m]\u001b[0m\u001b[0;34m)\u001b[0m\u001b[0;34m\u001b[0m\u001b[0;34m\u001b[0m\u001b[0m\n",
      "\u001b[0;32m/usr/local/lib/python3.7/site-packages/tqdm/_tqdm.py\u001b[0m in \u001b[0;36m__iter__\u001b[0;34m(self)\u001b[0m\n\u001b[1;32m   1040\u001b[0m                         \u001b[0mself\u001b[0m\u001b[0;34m.\u001b[0m\u001b[0mn\u001b[0m \u001b[0;34m=\u001b[0m \u001b[0mn\u001b[0m\u001b[0;34m\u001b[0m\u001b[0;34m\u001b[0m\u001b[0m\n\u001b[1;32m   1041\u001b[0m                         \u001b[0;32mwith\u001b[0m \u001b[0mself\u001b[0m\u001b[0;34m.\u001b[0m\u001b[0m_lock\u001b[0m\u001b[0;34m:\u001b[0m\u001b[0;34m\u001b[0m\u001b[0;34m\u001b[0m\u001b[0m\n\u001b[0;32m-> 1042\u001b[0;31m                             \u001b[0mself\u001b[0m\u001b[0;34m.\u001b[0m\u001b[0mdisplay\u001b[0m\u001b[0;34m(\u001b[0m\u001b[0;34m)\u001b[0m\u001b[0;34m\u001b[0m\u001b[0;34m\u001b[0m\u001b[0m\n\u001b[0m\u001b[1;32m   1043\u001b[0m \u001b[0;34m\u001b[0m\u001b[0m\n\u001b[1;32m   1044\u001b[0m                         \u001b[0;31m# If no `miniters` was specified, adjust automatically\u001b[0m\u001b[0;34m\u001b[0m\u001b[0;34m\u001b[0m\u001b[0;34m\u001b[0m\u001b[0m\n",
      "\u001b[0;32m/usr/local/lib/python3.7/site-packages/tqdm/_tqdm.py\u001b[0m in \u001b[0;36mdisplay\u001b[0;34m(self, msg, pos)\u001b[0m\n\u001b[1;32m   1315\u001b[0m         \u001b[0mself\u001b[0m\u001b[0;34m.\u001b[0m\u001b[0msp\u001b[0m\u001b[0;34m(\u001b[0m\u001b[0mself\u001b[0m\u001b[0;34m.\u001b[0m\u001b[0m__repr__\u001b[0m\u001b[0;34m(\u001b[0m\u001b[0;34m)\u001b[0m \u001b[0;32mif\u001b[0m \u001b[0mmsg\u001b[0m \u001b[0;32mis\u001b[0m \u001b[0;32mNone\u001b[0m \u001b[0;32melse\u001b[0m \u001b[0mmsg\u001b[0m\u001b[0;34m)\u001b[0m\u001b[0;34m\u001b[0m\u001b[0;34m\u001b[0m\u001b[0m\n\u001b[1;32m   1316\u001b[0m         \u001b[0;32mif\u001b[0m \u001b[0mpos\u001b[0m\u001b[0;34m:\u001b[0m\u001b[0;34m\u001b[0m\u001b[0;34m\u001b[0m\u001b[0m\n\u001b[0;32m-> 1317\u001b[0;31m             \u001b[0mself\u001b[0m\u001b[0;34m.\u001b[0m\u001b[0mmoveto\u001b[0m\u001b[0;34m(\u001b[0m\u001b[0;34m-\u001b[0m\u001b[0mpos\u001b[0m\u001b[0;34m)\u001b[0m\u001b[0;34m\u001b[0m\u001b[0;34m\u001b[0m\u001b[0m\n\u001b[0m\u001b[1;32m   1318\u001b[0m \u001b[0;34m\u001b[0m\u001b[0m\n\u001b[1;32m   1319\u001b[0m \u001b[0;34m\u001b[0m\u001b[0m\n",
      "\u001b[0;32m/usr/local/lib/python3.7/site-packages/tqdm/_tqdm.py\u001b[0m in \u001b[0;36mmoveto\u001b[0;34m(self, n)\u001b[0m\n\u001b[1;32m   1268\u001b[0m         \u001b[0;31m# TODO: private method\u001b[0m\u001b[0;34m\u001b[0m\u001b[0;34m\u001b[0m\u001b[0;34m\u001b[0m\u001b[0m\n\u001b[1;32m   1269\u001b[0m         \u001b[0mself\u001b[0m\u001b[0;34m.\u001b[0m\u001b[0mfp\u001b[0m\u001b[0;34m.\u001b[0m\u001b[0mwrite\u001b[0m\u001b[0;34m(\u001b[0m\u001b[0m_unicode\u001b[0m\u001b[0;34m(\u001b[0m\u001b[0;34m'\\n'\u001b[0m \u001b[0;34m*\u001b[0m \u001b[0mn\u001b[0m \u001b[0;34m+\u001b[0m \u001b[0m_term_move_up\u001b[0m\u001b[0;34m(\u001b[0m\u001b[0;34m)\u001b[0m \u001b[0;34m*\u001b[0m \u001b[0;34m-\u001b[0m\u001b[0mn\u001b[0m\u001b[0;34m)\u001b[0m\u001b[0;34m)\u001b[0m\u001b[0;34m\u001b[0m\u001b[0;34m\u001b[0m\u001b[0m\n\u001b[0;32m-> 1270\u001b[0;31m         \u001b[0mself\u001b[0m\u001b[0;34m.\u001b[0m\u001b[0mfp\u001b[0m\u001b[0;34m.\u001b[0m\u001b[0mflush\u001b[0m\u001b[0;34m(\u001b[0m\u001b[0;34m)\u001b[0m\u001b[0;34m\u001b[0m\u001b[0;34m\u001b[0m\u001b[0m\n\u001b[0m\u001b[1;32m   1271\u001b[0m \u001b[0;34m\u001b[0m\u001b[0m\n\u001b[1;32m   1272\u001b[0m     \u001b[0;32mdef\u001b[0m \u001b[0mclear\u001b[0m\u001b[0;34m(\u001b[0m\u001b[0mself\u001b[0m\u001b[0;34m,\u001b[0m \u001b[0mnolock\u001b[0m\u001b[0;34m=\u001b[0m\u001b[0;32mFalse\u001b[0m\u001b[0;34m)\u001b[0m\u001b[0;34m:\u001b[0m\u001b[0;34m\u001b[0m\u001b[0;34m\u001b[0m\u001b[0m\n",
      "\u001b[0;32m/usr/local/lib/python3.7/site-packages/ipykernel/iostream.py\u001b[0m in \u001b[0;36mflush\u001b[0;34m(self)\u001b[0m\n\u001b[1;32m    347\u001b[0m                 \u001b[0mself\u001b[0m\u001b[0;34m.\u001b[0m\u001b[0mpub_thread\u001b[0m\u001b[0;34m.\u001b[0m\u001b[0mschedule\u001b[0m\u001b[0;34m(\u001b[0m\u001b[0mevt\u001b[0m\u001b[0;34m.\u001b[0m\u001b[0mset\u001b[0m\u001b[0;34m)\u001b[0m\u001b[0;34m\u001b[0m\u001b[0;34m\u001b[0m\u001b[0m\n\u001b[1;32m    348\u001b[0m                 \u001b[0;31m# and give a timeout to avoid\u001b[0m\u001b[0;34m\u001b[0m\u001b[0;34m\u001b[0m\u001b[0;34m\u001b[0m\u001b[0m\n\u001b[0;32m--> 349\u001b[0;31m                 \u001b[0;32mif\u001b[0m \u001b[0;32mnot\u001b[0m \u001b[0mevt\u001b[0m\u001b[0;34m.\u001b[0m\u001b[0mwait\u001b[0m\u001b[0;34m(\u001b[0m\u001b[0mself\u001b[0m\u001b[0;34m.\u001b[0m\u001b[0mflush_timeout\u001b[0m\u001b[0;34m)\u001b[0m\u001b[0;34m:\u001b[0m\u001b[0;34m\u001b[0m\u001b[0;34m\u001b[0m\u001b[0m\n\u001b[0m\u001b[1;32m    350\u001b[0m                     \u001b[0;31m# write directly to __stderr__ instead of warning because\u001b[0m\u001b[0;34m\u001b[0m\u001b[0;34m\u001b[0m\u001b[0;34m\u001b[0m\u001b[0m\n\u001b[1;32m    351\u001b[0m                     \u001b[0;31m# if this is happening sys.stderr may be the problem.\u001b[0m\u001b[0;34m\u001b[0m\u001b[0;34m\u001b[0m\u001b[0;34m\u001b[0m\u001b[0m\n",
      "\u001b[0;32m/usr/local/Cellar/python/3.7.2_2/Frameworks/Python.framework/Versions/3.7/lib/python3.7/threading.py\u001b[0m in \u001b[0;36mwait\u001b[0;34m(self, timeout)\u001b[0m\n\u001b[1;32m    550\u001b[0m             \u001b[0msignaled\u001b[0m \u001b[0;34m=\u001b[0m \u001b[0mself\u001b[0m\u001b[0;34m.\u001b[0m\u001b[0m_flag\u001b[0m\u001b[0;34m\u001b[0m\u001b[0;34m\u001b[0m\u001b[0m\n\u001b[1;32m    551\u001b[0m             \u001b[0;32mif\u001b[0m \u001b[0;32mnot\u001b[0m \u001b[0msignaled\u001b[0m\u001b[0;34m:\u001b[0m\u001b[0;34m\u001b[0m\u001b[0;34m\u001b[0m\u001b[0m\n\u001b[0;32m--> 552\u001b[0;31m                 \u001b[0msignaled\u001b[0m \u001b[0;34m=\u001b[0m \u001b[0mself\u001b[0m\u001b[0;34m.\u001b[0m\u001b[0m_cond\u001b[0m\u001b[0;34m.\u001b[0m\u001b[0mwait\u001b[0m\u001b[0;34m(\u001b[0m\u001b[0mtimeout\u001b[0m\u001b[0;34m)\u001b[0m\u001b[0;34m\u001b[0m\u001b[0;34m\u001b[0m\u001b[0m\n\u001b[0m\u001b[1;32m    553\u001b[0m             \u001b[0;32mreturn\u001b[0m \u001b[0msignaled\u001b[0m\u001b[0;34m\u001b[0m\u001b[0;34m\u001b[0m\u001b[0m\n\u001b[1;32m    554\u001b[0m \u001b[0;34m\u001b[0m\u001b[0m\n",
      "\u001b[0;32m/usr/local/Cellar/python/3.7.2_2/Frameworks/Python.framework/Versions/3.7/lib/python3.7/threading.py\u001b[0m in \u001b[0;36mwait\u001b[0;34m(self, timeout)\u001b[0m\n\u001b[1;32m    298\u001b[0m             \u001b[0;32melse\u001b[0m\u001b[0;34m:\u001b[0m\u001b[0;34m\u001b[0m\u001b[0;34m\u001b[0m\u001b[0m\n\u001b[1;32m    299\u001b[0m                 \u001b[0;32mif\u001b[0m \u001b[0mtimeout\u001b[0m \u001b[0;34m>\u001b[0m \u001b[0;36m0\u001b[0m\u001b[0;34m:\u001b[0m\u001b[0;34m\u001b[0m\u001b[0;34m\u001b[0m\u001b[0m\n\u001b[0;32m--> 300\u001b[0;31m                     \u001b[0mgotit\u001b[0m \u001b[0;34m=\u001b[0m \u001b[0mwaiter\u001b[0m\u001b[0;34m.\u001b[0m\u001b[0macquire\u001b[0m\u001b[0;34m(\u001b[0m\u001b[0;32mTrue\u001b[0m\u001b[0;34m,\u001b[0m \u001b[0mtimeout\u001b[0m\u001b[0;34m)\u001b[0m\u001b[0;34m\u001b[0m\u001b[0;34m\u001b[0m\u001b[0m\n\u001b[0m\u001b[1;32m    301\u001b[0m                 \u001b[0;32melse\u001b[0m\u001b[0;34m:\u001b[0m\u001b[0;34m\u001b[0m\u001b[0;34m\u001b[0m\u001b[0m\n\u001b[1;32m    302\u001b[0m                     \u001b[0mgotit\u001b[0m \u001b[0;34m=\u001b[0m \u001b[0mwaiter\u001b[0m\u001b[0;34m.\u001b[0m\u001b[0macquire\u001b[0m\u001b[0;34m(\u001b[0m\u001b[0;32mFalse\u001b[0m\u001b[0;34m)\u001b[0m\u001b[0;34m\u001b[0m\u001b[0;34m\u001b[0m\u001b[0m\n",
      "\u001b[0;31mKeyboardInterrupt\u001b[0m: "
     ]
    }
   ],
   "source": [
    "def training(epochs=1, batch_size=128):\n",
    "    \n",
    "    #Loading the data\n",
    "    batch_count = x_train.shape[0] / batch_size\n",
    "    \n",
    "    # Creating GAN\n",
    "    generator= create_generator()\n",
    "    discriminator= create_discriminator()\n",
    "    gan = create_gan(discriminator, generator)\n",
    "    \n",
    "    for e in range(1,epochs+1 ):\n",
    "        print(\"Epoch %d\" %e)\n",
    "        for _ in tqdm(range(batch_size)):\n",
    "        #generate  random noise as an input  to  initialize the  generator\n",
    "            noise= np.random.normal(0,1, [batch_size, 100])\n",
    "            \n",
    "            # Generate fake MNIST images from noised input\n",
    "            generated_images = generator.predict(noise)\n",
    "            \n",
    "            # Get a random set of  real images\n",
    "            image_batch =x_train[np.random.randint(low=0,high=x_train.shape[0],size=batch_size)]\n",
    "            \n",
    "            #Construct different batches of  real and fake data \n",
    "            X= np.concatenate([image_batch, generated_images])\n",
    "            \n",
    "            # Labels for generated and real data\n",
    "            y_dis=np.zeros(2*batch_size)\n",
    "            y_dis[:batch_size]=0.9\n",
    "            \n",
    "            #Pre train discriminator on  fake and real data  before starting the gan. \n",
    "            discriminator.trainable=True\n",
    "            discriminator.train_on_batch(X, y_dis)\n",
    "            \n",
    "            #Tricking the noised input of the Generator as real data\n",
    "            noise= np.random.normal(0,1, [batch_size, 100])\n",
    "            y_gen = np.ones(batch_size)\n",
    "            \n",
    "            # During the training of gan, \n",
    "            # the weights of discriminator should be fixed. \n",
    "            #We can enforce that by setting the trainable flag\n",
    "            discriminator.trainable=False\n",
    "            \n",
    "            #training  the GAN by alternating the training of the Discriminator \n",
    "            #and training the chained GAN model with Discriminator’s weights freezed.\n",
    "            gan.train_on_batch(noise, y_gen)\n",
    "            \n",
    "        if e == 1 or e % 20 == 0:\n",
    "           \n",
    "            plot_generated_images(e, generator)\n",
    "            \n",
    "training(5,128)"
   ]
  },
  {
   "cell_type": "code",
   "execution_count": null,
   "metadata": {},
   "outputs": [],
   "source": []
  },
  {
   "cell_type": "code",
   "execution_count": null,
   "metadata": {},
   "outputs": [],
   "source": []
  },
  {
   "cell_type": "code",
   "execution_count": null,
   "metadata": {},
   "outputs": [],
   "source": []
  },
  {
   "cell_type": "code",
   "execution_count": null,
   "metadata": {},
   "outputs": [],
   "source": []
  },
  {
   "cell_type": "code",
   "execution_count": null,
   "metadata": {},
   "outputs": [],
   "source": []
  },
  {
   "cell_type": "code",
   "execution_count": null,
   "metadata": {},
   "outputs": [],
   "source": []
  },
  {
   "cell_type": "code",
   "execution_count": null,
   "metadata": {},
   "outputs": [],
   "source": []
  },
  {
   "cell_type": "code",
   "execution_count": null,
   "metadata": {},
   "outputs": [],
   "source": []
  },
  {
   "cell_type": "code",
   "execution_count": null,
   "metadata": {},
   "outputs": [],
   "source": []
  },
  {
   "cell_type": "code",
   "execution_count": null,
   "metadata": {},
   "outputs": [],
   "source": []
  },
  {
   "cell_type": "markdown",
   "metadata": {},
   "source": [
    "Todo....\n",
    "\n",
    "- More images\n",
    "- Flip Images\n",
    "- Setup CNN\n",
    "- Find model with premade weights\n"
   ]
  },
  {
   "cell_type": "code",
   "execution_count": null,
   "metadata": {},
   "outputs": [],
   "source": []
  },
  {
   "cell_type": "code",
   "execution_count": null,
   "metadata": {},
   "outputs": [],
   "source": []
  },
  {
   "cell_type": "code",
   "execution_count": null,
   "metadata": {},
   "outputs": [],
   "source": []
  },
  {
   "cell_type": "code",
   "execution_count": null,
   "metadata": {},
   "outputs": [],
   "source": []
  },
  {
   "cell_type": "code",
   "execution_count": null,
   "metadata": {},
   "outputs": [],
   "source": []
  },
  {
   "cell_type": "code",
   "execution_count": 1553,
   "metadata": {},
   "outputs": [],
   "source": [
    "yr_2_weight = 0.35\n",
    "yr_3_weight = 0.65\n",
    "yr_2_mark = 58.75\n",
    "yr_3_t1_mark = 67.67\n",
    "\n",
    "disso_mark = 87\n",
    "mod_1 = 70\n",
    "mod_2 = 70"
   ]
  },
  {
   "cell_type": "code",
   "execution_count": 1554,
   "metadata": {},
   "outputs": [
    {
     "name": "stdout",
     "output_type": "stream",
     "text": [
      "69.6383125\n"
     ]
    }
   ],
   "source": [
    "yr_2_total = yr_2_mark * yr_2_weight\n",
    "\n",
    "yr_3_total = ((yr_3_t1_mark*3) + (disso_mark*3) + mod_1 + mod_2 )/8\n",
    "yr_3_total *= yr_3_weight\n",
    "\n",
    "total = yr_2_total + yr_3_total\n",
    "print(total)"
   ]
  },
  {
   "cell_type": "code",
   "execution_count": 1541,
   "metadata": {},
   "outputs": [],
   "source": [
    "yr_2_weight = 0.35\n",
    "yr_3_weight = 0.65\n",
    "yr_2_mark = 65\n",
    "yr_3_t1_mark = 62\n",
    "\n",
    "disso_mark = 40\n",
    "mod_1 = 60\n",
    "mod_2 = 60\n",
    "mod_3 = 60"
   ]
  },
  {
   "cell_type": "code",
   "execution_count": 1542,
   "metadata": {},
   "outputs": [
    {
     "name": "stdout",
     "output_type": "stream",
     "text": [
      "61.9384375\n"
     ]
    }
   ],
   "source": [
    "yr_2_total = yr_2_mark * yr_2_weight\n",
    "\n",
    "yr_3_total = ((yr_3_t1_mark*3) + (disso_mark*2) + mod_1 + mod_2 + mod_3)/8\n",
    "yr_3_total *= yr_3_weight\n",
    "\n",
    "total = yr_2_total + yr_3_total\n",
    "print(total)"
   ]
  },
  {
   "cell_type": "code",
   "execution_count": null,
   "metadata": {},
   "outputs": [],
   "source": []
  },
  {
   "cell_type": "code",
   "execution_count": null,
   "metadata": {},
   "outputs": [],
   "source": []
  },
  {
   "cell_type": "code",
   "execution_count": null,
   "metadata": {},
   "outputs": [],
   "source": []
  },
  {
   "cell_type": "code",
   "execution_count": null,
   "metadata": {},
   "outputs": [],
   "source": [
    "nicotine = 18\n"
   ]
  }
 ],
 "metadata": {
  "kernelspec": {
   "display_name": "Python 3",
   "language": "python",
   "name": "python3"
  },
  "language_info": {
   "codemirror_mode": {
    "name": "ipython",
    "version": 3
   },
   "file_extension": ".py",
   "mimetype": "text/x-python",
   "name": "python",
   "nbconvert_exporter": "python",
   "pygments_lexer": "ipython3",
   "version": "3.9.4"
  }
 },
 "nbformat": 4,
 "nbformat_minor": 2
}
